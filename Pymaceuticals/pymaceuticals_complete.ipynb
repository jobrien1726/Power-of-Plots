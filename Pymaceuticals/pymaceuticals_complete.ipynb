{
 "cells": [
  {
   "cell_type": "markdown",
   "metadata": {},
   "source": [
    "## Observations and Insights"
   ]
  },
  {
   "cell_type": "markdown",
   "metadata": {},
   "source": [
    "Looking at the Scatter Plot for Mouse Weight vs Average Tumor Volume for the Capomulin regimen, we can see that there is most likely a positive correlation between the two factors. After calculating the Pearson correlation coefficient, we get a value of .95, which indicates there is, in fact, a very strong positive correlation between the two. A heavier mouse will have a larger average tumor volume, with respect to the Capomulin regimen data. \n",
    "\n",
    "If we take a look at the Line Plot that shows the change in Tumor Volume over the 45 day time period for the Mouse with ID s185 that was treated with Capomulin, we can see that this mouse's tumor reduced in volume by about 50% over the course of the 45 days. This is pretty remarkable data, but we could better judge the effectiveness of the Capomulin treatment if all of the mice that were given Capomulin were included in the graph. \n",
    "\n",
    "Observing the boxplots that represent Final Tumor Volume data for the treatments Capomulin, Ramicane, Infubinol, and Ceftamin, we don't see any significant outliers that could be skewing the data. We can see that the final tumor volume data points for Capomulin and Ramicane fall somewhere between 22 and 47 mm3, while the final tumor volume data points for Infubinol and Ceftamin fall roughly between 60 and 72 mm3. Since each mouse started with a tumor volume of 45mm3, we can see that a large majority of the tumors in mice treated with Capomulin and Ramicane reduced over the 45 day time period, while the tumors in mice treated with Infubinol and Ceftamin continued to grow. "
   ]
  },
  {
   "cell_type": "markdown",
   "metadata": {},
   "source": [
    "## Dependencies and starter code"
   ]
  },
  {
   "cell_type": "code",
   "execution_count": 144,
   "metadata": {},
   "outputs": [
    {
     "data": {
      "text/html": [
       "<div>\n",
       "<style scoped>\n",
       "    .dataframe tbody tr th:only-of-type {\n",
       "        vertical-align: middle;\n",
       "    }\n",
       "\n",
       "    .dataframe tbody tr th {\n",
       "        vertical-align: top;\n",
       "    }\n",
       "\n",
       "    .dataframe thead th {\n",
       "        text-align: right;\n",
       "    }\n",
       "</style>\n",
       "<table border=\"1\" class=\"dataframe\">\n",
       "  <thead>\n",
       "    <tr style=\"text-align: right;\">\n",
       "      <th></th>\n",
       "      <th>Mouse ID</th>\n",
       "      <th>Drug Regimen</th>\n",
       "      <th>Sex</th>\n",
       "      <th>Age_months</th>\n",
       "      <th>Weight (g)</th>\n",
       "      <th>Timepoint</th>\n",
       "      <th>Tumor Volume (mm3)</th>\n",
       "      <th>Metastatic Sites</th>\n",
       "    </tr>\n",
       "  </thead>\n",
       "  <tbody>\n",
       "    <tr>\n",
       "      <th>0</th>\n",
       "      <td>k403</td>\n",
       "      <td>Ramicane</td>\n",
       "      <td>Male</td>\n",
       "      <td>21</td>\n",
       "      <td>16</td>\n",
       "      <td>0</td>\n",
       "      <td>45.000000</td>\n",
       "      <td>0</td>\n",
       "    </tr>\n",
       "    <tr>\n",
       "      <th>1</th>\n",
       "      <td>k403</td>\n",
       "      <td>Ramicane</td>\n",
       "      <td>Male</td>\n",
       "      <td>21</td>\n",
       "      <td>16</td>\n",
       "      <td>5</td>\n",
       "      <td>38.825898</td>\n",
       "      <td>0</td>\n",
       "    </tr>\n",
       "    <tr>\n",
       "      <th>2</th>\n",
       "      <td>k403</td>\n",
       "      <td>Ramicane</td>\n",
       "      <td>Male</td>\n",
       "      <td>21</td>\n",
       "      <td>16</td>\n",
       "      <td>10</td>\n",
       "      <td>35.014271</td>\n",
       "      <td>1</td>\n",
       "    </tr>\n",
       "    <tr>\n",
       "      <th>3</th>\n",
       "      <td>k403</td>\n",
       "      <td>Ramicane</td>\n",
       "      <td>Male</td>\n",
       "      <td>21</td>\n",
       "      <td>16</td>\n",
       "      <td>15</td>\n",
       "      <td>34.223992</td>\n",
       "      <td>1</td>\n",
       "    </tr>\n",
       "    <tr>\n",
       "      <th>4</th>\n",
       "      <td>k403</td>\n",
       "      <td>Ramicane</td>\n",
       "      <td>Male</td>\n",
       "      <td>21</td>\n",
       "      <td>16</td>\n",
       "      <td>20</td>\n",
       "      <td>32.997729</td>\n",
       "      <td>1</td>\n",
       "    </tr>\n",
       "  </tbody>\n",
       "</table>\n",
       "</div>"
      ],
      "text/plain": [
       "  Mouse ID Drug Regimen   Sex  Age_months  Weight (g)  Timepoint  \\\n",
       "0     k403     Ramicane  Male          21          16          0   \n",
       "1     k403     Ramicane  Male          21          16          5   \n",
       "2     k403     Ramicane  Male          21          16         10   \n",
       "3     k403     Ramicane  Male          21          16         15   \n",
       "4     k403     Ramicane  Male          21          16         20   \n",
       "\n",
       "   Tumor Volume (mm3)  Metastatic Sites  \n",
       "0           45.000000                 0  \n",
       "1           38.825898                 0  \n",
       "2           35.014271                 1  \n",
       "3           34.223992                 1  \n",
       "4           32.997729                 1  "
      ]
     },
     "execution_count": 144,
     "metadata": {},
     "output_type": "execute_result"
    }
   ],
   "source": [
    "# Dependencies and Setup\n",
    "import matplotlib.pyplot as plt\n",
    "import pandas as pd\n",
    "import scipy.stats as st\n",
    "from scipy.stats import sem\n",
    "from scipy.stats import linregress\n",
    "import numpy as np\n",
    "\n",
    "# Hide warning messages in notebook\n",
    "import warnings\n",
    "warnings.filterwarnings('ignore')\n",
    "\n",
    "# Read in data files\n",
    "mouse_metadata = pd.read_csv(\"data/Mouse_metadata.csv\")\n",
    "study_results = pd.read_csv(\"data/Study_results.csv\")\n",
    "\n",
    "# Combine the data into a single dataset\n",
    "mouse_treatment_data = pd.merge(mouse_metadata, study_results, on=\"Mouse ID\", how=\"outer\")\n",
    "\n",
    "# Display the data table for preview\n",
    "mouse_treatment_data.head()"
   ]
  },
  {
   "cell_type": "markdown",
   "metadata": {},
   "source": [
    "## Summary statistics"
   ]
  },
  {
   "cell_type": "code",
   "execution_count": 145,
   "metadata": {},
   "outputs": [],
   "source": [
    "# Group data by Drug Regimen and find Mean, Median, Variance, Standard Deviation, and SEM\n",
    "\n",
    "grouped_by_drug = mouse_treatment_data.groupby([\"Drug Regimen\"])\n",
    "#display(grouped_by_drug.mean())\n",
    "#display(grouped_by_drug.median())\n",
    "#display(grouped_by_drug.var())\n",
    "#display(grouped_by_drug.std())\n",
    "#display(grouped_by_drug.sem())"
   ]
  },
  {
   "cell_type": "code",
   "execution_count": 146,
   "metadata": {},
   "outputs": [],
   "source": [
    "# Save each dataframe to a variable and drop all columns besides Drug Regimen and Tumor Volume\n",
    "\n",
    "mean_tumor_volume = grouped_by_drug.mean().drop(columns=[\"Age_months\",\"Weight (g)\", \"Timepoint\",\"Metastatic Sites\"]).rename(columns={\"Tumor Volume (mm3)\": \"Mean Tumor Volume\"})\n",
    "#display(mean_tumor_volume)\n",
    "median_tumor_volume = grouped_by_drug.median().drop(columns=[\"Age_months\",\"Weight (g)\", \"Timepoint\",\"Metastatic Sites\"]).rename(columns={\"Tumor Volume (mm3)\": \"Median Tumor Volume\"})\n",
    "#display(median_tumor_volume)\n",
    "var_tumor_volume = grouped_by_drug.var().drop(columns=[\"Age_months\",\"Weight (g)\", \"Timepoint\",\"Metastatic Sites\"]).rename(columns={\"Tumor Volume (mm3)\": \"Tumor Volume Variance\"})\n",
    "#display(var_tumor_volume)\n",
    "std_tumor_volume = grouped_by_drug.std().drop(columns=[\"Age_months\",\"Weight (g)\", \"Timepoint\",\"Metastatic Sites\"]).rename(columns={\"Tumor Volume (mm3)\": \"Tumor Volume Std Deviation\"})\n",
    "#display(std_tumor_volume)\n",
    "sem_tumor_volume = grouped_by_drug.sem().drop(columns=[\"Mouse ID\",\"Sex\",\"Age_months\",\"Weight (g)\", \"Timepoint\",\"Metastatic Sites\"]).rename(columns={\"Tumor Volume (mm3)\": \"Tumor Volume Std Error\"})\n",
    "#display(sem_tumor_volume)\n"
   ]
  },
  {
   "cell_type": "code",
   "execution_count": 147,
   "metadata": {},
   "outputs": [
    {
     "data": {
      "text/html": [
       "<div>\n",
       "<style scoped>\n",
       "    .dataframe tbody tr th:only-of-type {\n",
       "        vertical-align: middle;\n",
       "    }\n",
       "\n",
       "    .dataframe tbody tr th {\n",
       "        vertical-align: top;\n",
       "    }\n",
       "\n",
       "    .dataframe thead th {\n",
       "        text-align: right;\n",
       "    }\n",
       "</style>\n",
       "<table border=\"1\" class=\"dataframe\">\n",
       "  <thead>\n",
       "    <tr style=\"text-align: right;\">\n",
       "      <th></th>\n",
       "      <th>Mean Tumor Volume</th>\n",
       "      <th>Median Tumor Volume</th>\n",
       "      <th>Tumor Volume Variance</th>\n",
       "      <th>Tumor Volume Std Deviation</th>\n",
       "      <th>Tumor Volume Std Error</th>\n",
       "    </tr>\n",
       "    <tr>\n",
       "      <th>Drug Regimen</th>\n",
       "      <th></th>\n",
       "      <th></th>\n",
       "      <th></th>\n",
       "      <th></th>\n",
       "      <th></th>\n",
       "    </tr>\n",
       "  </thead>\n",
       "  <tbody>\n",
       "    <tr>\n",
       "      <th>Capomulin</th>\n",
       "      <td>40.675741</td>\n",
       "      <td>41.557809</td>\n",
       "      <td>24.947764</td>\n",
       "      <td>4.994774</td>\n",
       "      <td>0.329346</td>\n",
       "    </tr>\n",
       "    <tr>\n",
       "      <th>Ceftamin</th>\n",
       "      <td>52.591172</td>\n",
       "      <td>51.776157</td>\n",
       "      <td>39.290177</td>\n",
       "      <td>6.268188</td>\n",
       "      <td>0.469821</td>\n",
       "    </tr>\n",
       "    <tr>\n",
       "      <th>Infubinol</th>\n",
       "      <td>52.884795</td>\n",
       "      <td>51.820584</td>\n",
       "      <td>43.128684</td>\n",
       "      <td>6.567243</td>\n",
       "      <td>0.492236</td>\n",
       "    </tr>\n",
       "    <tr>\n",
       "      <th>Ketapril</th>\n",
       "      <td>55.235638</td>\n",
       "      <td>53.698743</td>\n",
       "      <td>68.553577</td>\n",
       "      <td>8.279709</td>\n",
       "      <td>0.603860</td>\n",
       "    </tr>\n",
       "    <tr>\n",
       "      <th>Naftisol</th>\n",
       "      <td>54.331565</td>\n",
       "      <td>52.509285</td>\n",
       "      <td>66.173479</td>\n",
       "      <td>8.134708</td>\n",
       "      <td>0.596466</td>\n",
       "    </tr>\n",
       "    <tr>\n",
       "      <th>Placebo</th>\n",
       "      <td>54.033581</td>\n",
       "      <td>52.288934</td>\n",
       "      <td>61.168083</td>\n",
       "      <td>7.821003</td>\n",
       "      <td>0.581331</td>\n",
       "    </tr>\n",
       "    <tr>\n",
       "      <th>Propriva</th>\n",
       "      <td>52.322552</td>\n",
       "      <td>50.854632</td>\n",
       "      <td>42.351070</td>\n",
       "      <td>6.507770</td>\n",
       "      <td>0.512884</td>\n",
       "    </tr>\n",
       "    <tr>\n",
       "      <th>Ramicane</th>\n",
       "      <td>40.216745</td>\n",
       "      <td>40.673236</td>\n",
       "      <td>23.486704</td>\n",
       "      <td>4.846308</td>\n",
       "      <td>0.320955</td>\n",
       "    </tr>\n",
       "    <tr>\n",
       "      <th>Stelasyn</th>\n",
       "      <td>54.233149</td>\n",
       "      <td>52.431737</td>\n",
       "      <td>59.450562</td>\n",
       "      <td>7.710419</td>\n",
       "      <td>0.573111</td>\n",
       "    </tr>\n",
       "    <tr>\n",
       "      <th>Zoniferol</th>\n",
       "      <td>53.236507</td>\n",
       "      <td>51.818479</td>\n",
       "      <td>48.533355</td>\n",
       "      <td>6.966589</td>\n",
       "      <td>0.516398</td>\n",
       "    </tr>\n",
       "  </tbody>\n",
       "</table>\n",
       "</div>"
      ],
      "text/plain": [
       "              Mean Tumor Volume  Median Tumor Volume  Tumor Volume Variance  \\\n",
       "Drug Regimen                                                                  \n",
       "Capomulin             40.675741            41.557809              24.947764   \n",
       "Ceftamin              52.591172            51.776157              39.290177   \n",
       "Infubinol             52.884795            51.820584              43.128684   \n",
       "Ketapril              55.235638            53.698743              68.553577   \n",
       "Naftisol              54.331565            52.509285              66.173479   \n",
       "Placebo               54.033581            52.288934              61.168083   \n",
       "Propriva              52.322552            50.854632              42.351070   \n",
       "Ramicane              40.216745            40.673236              23.486704   \n",
       "Stelasyn              54.233149            52.431737              59.450562   \n",
       "Zoniferol             53.236507            51.818479              48.533355   \n",
       "\n",
       "              Tumor Volume Std Deviation  Tumor Volume Std Error  \n",
       "Drug Regimen                                                      \n",
       "Capomulin                       4.994774                0.329346  \n",
       "Ceftamin                        6.268188                0.469821  \n",
       "Infubinol                       6.567243                0.492236  \n",
       "Ketapril                        8.279709                0.603860  \n",
       "Naftisol                        8.134708                0.596466  \n",
       "Placebo                         7.821003                0.581331  \n",
       "Propriva                        6.507770                0.512884  \n",
       "Ramicane                        4.846308                0.320955  \n",
       "Stelasyn                        7.710419                0.573111  \n",
       "Zoniferol                       6.966589                0.516398  "
      ]
     },
     "execution_count": 147,
     "metadata": {},
     "output_type": "execute_result"
    }
   ],
   "source": [
    "# Generate a summary statistics table of mean, median, variance, standard deviation, and SEM of the tumor volume \n",
    "# for each regimen\n",
    "\n",
    "tumor_vol_summary_data = mean_tumor_volume\n",
    "tumor_vol_summary_data[\"Median Tumor Volume\"] = median_tumor_volume[\"Median Tumor Volume\"]\n",
    "tumor_vol_summary_data[\"Tumor Volume Variance\"]= var_tumor_volume[\"Tumor Volume Variance\"]\n",
    "tumor_vol_summary_data[\"Tumor Volume Std Deviation\"]= std_tumor_volume[\"Tumor Volume Std Deviation\"]\n",
    "tumor_vol_summary_data[\"Tumor Volume Std Error\"]= sem_tumor_volume[\"Tumor Volume Std Error\"]\n",
    "tumor_vol_summary_data"
   ]
  },
  {
   "cell_type": "code",
   "execution_count": 148,
   "metadata": {},
   "outputs": [
    {
     "data": {
      "text/html": [
       "<div>\n",
       "<style scoped>\n",
       "    .dataframe tbody tr th:only-of-type {\n",
       "        vertical-align: middle;\n",
       "    }\n",
       "\n",
       "    .dataframe tbody tr th {\n",
       "        vertical-align: top;\n",
       "    }\n",
       "\n",
       "    .dataframe thead th {\n",
       "        text-align: right;\n",
       "    }\n",
       "</style>\n",
       "<table border=\"1\" class=\"dataframe\">\n",
       "  <thead>\n",
       "    <tr style=\"text-align: right;\">\n",
       "      <th></th>\n",
       "      <th>Drug Regimen</th>\n",
       "      <th>Mean Tumor Volume</th>\n",
       "      <th>Median Tumor Volume</th>\n",
       "      <th>Tumor Volume Variance</th>\n",
       "      <th>Tumor Volume Std Deviation</th>\n",
       "      <th>Tumor Volume Std Error</th>\n",
       "    </tr>\n",
       "  </thead>\n",
       "  <tbody>\n",
       "    <tr>\n",
       "      <th>0</th>\n",
       "      <td>Capomulin</td>\n",
       "      <td>40.675741</td>\n",
       "      <td>41.557809</td>\n",
       "      <td>24.947764</td>\n",
       "      <td>4.994774</td>\n",
       "      <td>0.329346</td>\n",
       "    </tr>\n",
       "    <tr>\n",
       "      <th>1</th>\n",
       "      <td>Ceftamin</td>\n",
       "      <td>52.591172</td>\n",
       "      <td>51.776157</td>\n",
       "      <td>39.290177</td>\n",
       "      <td>6.268188</td>\n",
       "      <td>0.469821</td>\n",
       "    </tr>\n",
       "    <tr>\n",
       "      <th>2</th>\n",
       "      <td>Infubinol</td>\n",
       "      <td>52.884795</td>\n",
       "      <td>51.820584</td>\n",
       "      <td>43.128684</td>\n",
       "      <td>6.567243</td>\n",
       "      <td>0.492236</td>\n",
       "    </tr>\n",
       "    <tr>\n",
       "      <th>3</th>\n",
       "      <td>Ketapril</td>\n",
       "      <td>55.235638</td>\n",
       "      <td>53.698743</td>\n",
       "      <td>68.553577</td>\n",
       "      <td>8.279709</td>\n",
       "      <td>0.603860</td>\n",
       "    </tr>\n",
       "    <tr>\n",
       "      <th>4</th>\n",
       "      <td>Naftisol</td>\n",
       "      <td>54.331565</td>\n",
       "      <td>52.509285</td>\n",
       "      <td>66.173479</td>\n",
       "      <td>8.134708</td>\n",
       "      <td>0.596466</td>\n",
       "    </tr>\n",
       "    <tr>\n",
       "      <th>5</th>\n",
       "      <td>Placebo</td>\n",
       "      <td>54.033581</td>\n",
       "      <td>52.288934</td>\n",
       "      <td>61.168083</td>\n",
       "      <td>7.821003</td>\n",
       "      <td>0.581331</td>\n",
       "    </tr>\n",
       "    <tr>\n",
       "      <th>6</th>\n",
       "      <td>Propriva</td>\n",
       "      <td>52.322552</td>\n",
       "      <td>50.854632</td>\n",
       "      <td>42.351070</td>\n",
       "      <td>6.507770</td>\n",
       "      <td>0.512884</td>\n",
       "    </tr>\n",
       "    <tr>\n",
       "      <th>7</th>\n",
       "      <td>Ramicane</td>\n",
       "      <td>40.216745</td>\n",
       "      <td>40.673236</td>\n",
       "      <td>23.486704</td>\n",
       "      <td>4.846308</td>\n",
       "      <td>0.320955</td>\n",
       "    </tr>\n",
       "    <tr>\n",
       "      <th>8</th>\n",
       "      <td>Stelasyn</td>\n",
       "      <td>54.233149</td>\n",
       "      <td>52.431737</td>\n",
       "      <td>59.450562</td>\n",
       "      <td>7.710419</td>\n",
       "      <td>0.573111</td>\n",
       "    </tr>\n",
       "    <tr>\n",
       "      <th>9</th>\n",
       "      <td>Zoniferol</td>\n",
       "      <td>53.236507</td>\n",
       "      <td>51.818479</td>\n",
       "      <td>48.533355</td>\n",
       "      <td>6.966589</td>\n",
       "      <td>0.516398</td>\n",
       "    </tr>\n",
       "  </tbody>\n",
       "</table>\n",
       "</div>"
      ],
      "text/plain": [
       "  Drug Regimen  Mean Tumor Volume  Median Tumor Volume  Tumor Volume Variance  \\\n",
       "0    Capomulin          40.675741            41.557809              24.947764   \n",
       "1     Ceftamin          52.591172            51.776157              39.290177   \n",
       "2    Infubinol          52.884795            51.820584              43.128684   \n",
       "3     Ketapril          55.235638            53.698743              68.553577   \n",
       "4     Naftisol          54.331565            52.509285              66.173479   \n",
       "5      Placebo          54.033581            52.288934              61.168083   \n",
       "6     Propriva          52.322552            50.854632              42.351070   \n",
       "7     Ramicane          40.216745            40.673236              23.486704   \n",
       "8     Stelasyn          54.233149            52.431737              59.450562   \n",
       "9    Zoniferol          53.236507            51.818479              48.533355   \n",
       "\n",
       "   Tumor Volume Std Deviation  Tumor Volume Std Error  \n",
       "0                    4.994774                0.329346  \n",
       "1                    6.268188                0.469821  \n",
       "2                    6.567243                0.492236  \n",
       "3                    8.279709                0.603860  \n",
       "4                    8.134708                0.596466  \n",
       "5                    7.821003                0.581331  \n",
       "6                    6.507770                0.512884  \n",
       "7                    4.846308                0.320955  \n",
       "8                    7.710419                0.573111  \n",
       "9                    6.966589                0.516398  "
      ]
     },
     "execution_count": 148,
     "metadata": {},
     "output_type": "execute_result"
    }
   ],
   "source": [
    "# Reset index for slightly cleaner aethestic \n",
    "\n",
    "tumor_vol_summary_data = tumor_vol_summary_data.reset_index()\n",
    "tumor_vol_summary_data"
   ]
  },
  {
   "cell_type": "markdown",
   "metadata": {},
   "source": [
    "## Bar plots"
   ]
  },
  {
   "cell_type": "code",
   "execution_count": 102,
   "metadata": {},
   "outputs": [
    {
     "data": {
      "image/png": "[encoded data removed]",
      "text/plain": [
       "<Figure size 432x288 with 1 Axes>"
      ]
     },
     "metadata": {
      "needs_background": "light"
     },
     "output_type": "display_data"
    }
   ],
   "source": [
    "# Generate a bar plot showing number of data points for each treatment regimen using pandas\n",
    "\n",
    "# Group data by Drug Regimen and use .count to find number of data points for each\n",
    "grouped_by_drug = mouse_treatment_data.groupby([\"Drug Regimen\"])\n",
    "drug_data_pts = grouped_by_drug[\"Drug Regimen\"].count()\n",
    "#print(drug_data_pts)\n",
    "\n",
    "# Use pandas to chart data, set y axis label and title\n",
    "drug_data_bar_plot = drug_data_pts.plot(kind=\"bar\", color=\"indigo\")\n",
    "drug_data_bar_plot.set_ylabel(\"Number of Data Points\", fontsize=12)\n",
    "drug_data_bar_plot.set_title(\"Number of Data Points for each Drug Regimen\", fontsize=15)\n",
    "plt.tight_layout()\n",
    "plt.show()"
   ]
  },
  {
   "cell_type": "code",
   "execution_count": 70,
   "metadata": {},
   "outputs": [
    {
     "name": "stdout",
     "output_type": "stream",
     "text": [
      "Drug Regimen\n",
      "Capomulin    230\n",
      "Ceftamin     178\n",
      "Infubinol    178\n",
      "Ketapril     188\n",
      "Naftisol     186\n",
      "Placebo      181\n",
      "Propriva     161\n",
      "Ramicane     228\n",
      "Stelasyn     181\n",
      "Zoniferol    182\n",
      "Name: Drug Regimen, dtype: int64\n"
     ]
    },
    {
     "data": {
      "image/png": "[encoded data removed]",
      "text/plain": [
       "<Figure size 432x288 with 1 Axes>"
      ]
     },
     "metadata": {
      "needs_background": "light"
     },
     "output_type": "display_data"
    }
   ],
   "source": [
    "# Generate a bar plot showing number of data points for each treatment regimen using pyplot\n",
    "\n",
    "# Print out count of data points for each drug using data grouped by drug regimen\n",
    "drug_data_pts = grouped_by_drug[\"Drug Regimen\"].count()\n",
    "print(drug_data_pts)\n",
    "\n",
    "# Make list of drugs to be used for tick labels, and list of data points for y axis values\n",
    "drugs = [\"Capomulin\", \"Ceftamin\", \"Infubinol\", \"Ketapril\", \"Naftisol\", \"Placebo\", \"Propriva\", \"Ramicane\",\n",
    "         \"Stelasyn\", \"Zoniferol\"]\n",
    "drug_data_pts = [230, 178, 178, 188, 186, 181, 161, 228, 181, 182]\n",
    "\n",
    "#Set x axis and chart\n",
    "x_axis= np.arange(len(drugs))\n",
    "drug_data_chart = plt.bar(x_axis, drug_data_pts, color=\"r\", align=\"center\")\n",
    "\n",
    "#Add tick locations and labels, set title and x and y axis labels\n",
    "tick_locations = [value for value in x_axis]\n",
    "plt.xticks(tick_locations, drugs, rotation=90)\n",
    "\n",
    "plt.title(\"Number of Data Points for each Drug Regimen\", fontsize=15)\n",
    "plt.xlabel(\"Drug Regimen\", fontsize=14)\n",
    "plt.ylabel(\"Number of Data Points\", fontsize=14)\n",
    "\n",
    "plt.tight_layout()\n",
    "plt.show()"
   ]
  },
  {
   "cell_type": "markdown",
   "metadata": {},
   "source": [
    "## Pie plots"
   ]
  },
  {
   "cell_type": "code",
   "execution_count": 69,
   "metadata": {},
   "outputs": [
    {
     "data": {
      "image/png": "[encoded data removed]",
      "text/plain": [
       "<Figure size 432x288 with 1 Axes>"
      ]
     },
     "metadata": {},
     "output_type": "display_data"
    }
   ],
   "source": [
    "# Generate a pie plot showing the distribution of female versus male mice using pandas\n",
    "\n",
    "# Drop duplicate rows w regard to Mouse ID to avoid double counting mice\n",
    "mouse_data_reduced = mouse_treatment_data.drop_duplicates(subset = \"Mouse ID\", keep=\"first\")\n",
    "#display(mouse_data_reduced)\n",
    "\n",
    "# Get value counts of sex to find out distribution of male v female mice\n",
    "gender_data = mouse_data_reduced[\"Sex\"].value_counts()\n",
    "#print(gender_data)\n",
    "\n",
    "# Use pandas to create pie plot of the gender distribution, set y label and axis, include legend\n",
    "gender_pie = gender_data.plot(kind=\"pie\", title=\"Distribution of Male v. Female Mice\", autopct=\"%1.1f%%\", shadow=True,\n",
    "                              startangle=30)\n",
    "gender_pie.set_ylabel(\"Sex\", fontsize=13)\n",
    "plt.legend(loc=\"best\")\n",
    "plt.tight_layout()\n",
    "plt.axis(\"equal\")\n",
    "plt.show()"
   ]
  },
  {
   "cell_type": "code",
   "execution_count": 66,
   "metadata": {},
   "outputs": [
    {
     "data": {
      "image/png": "[encoded data removed]",
      "text/plain": [
       "<Figure size 432x288 with 1 Axes>"
      ]
     },
     "metadata": {},
     "output_type": "display_data"
    }
   ],
   "source": [
    "# Generate a pie plot showing the distribution of female versus male mice using pyplot\n",
    "\n",
    "#Print value counts of gender data to get counts of male and female mice\n",
    "gender_data = mouse_data_reduced[\"Sex\"].value_counts()\n",
    "#print(gender_data)\n",
    "\n",
    "# Create lists with gender data and set colors\n",
    "gender = [\"Male\",\"Female\"]\n",
    "counts = [125, 124]\n",
    "colors = [\"purple\", \"yellowgreen\"]\n",
    "\n",
    "# Use pyplot to create pie plot of the gender distribution, set y label and axis, include legend\n",
    "plt.title(\"Distribution of Male v. Female Mice\", fontsize=15)\n",
    "plt.pie(counts, labels=gender, colors=colors, autopct=\"%1.1f%%\", shadow=True, startangle=30)\n",
    "plt.ylabel(\"Sex\", fontsize=13)\n",
    "plt.legend(loc=\"best\")\n",
    "plt.axis(\"equal\")\n",
    "plt.show()"
   ]
  },
  {
   "cell_type": "markdown",
   "metadata": {},
   "source": [
    "## Quartiles, outliers and boxplots"
   ]
  },
  {
   "cell_type": "code",
   "execution_count": 10,
   "metadata": {},
   "outputs": [
    {
     "data": {
      "text/plain": [
       "0     23.343598\n",
       "1     28.430964\n",
       "2     28.484033\n",
       "3     31.023923\n",
       "4     31.896238\n",
       "5     32.377357\n",
       "6     33.329098\n",
       "7     34.455298\n",
       "8     36.041047\n",
       "9     37.074024\n",
       "10    37.311846\n",
       "11    38.125164\n",
       "12    38.846876\n",
       "13    38.939633\n",
       "14    38.982878\n",
       "15    40.159220\n",
       "16    40.658124\n",
       "17    40.728578\n",
       "18    41.483008\n",
       "19    41.581521\n",
       "20    47.685963\n",
       "Name: Tumor Volume (mm3), dtype: float64"
      ]
     },
     "metadata": {},
     "output_type": "display_data"
    },
    {
     "data": {
      "text/plain": [
       "0     22.050126\n",
       "1     29.128472\n",
       "2     30.276232\n",
       "3     30.564625\n",
       "4     30.638696\n",
       "5     31.095335\n",
       "6     31.560470\n",
       "7     32.978522\n",
       "8     33.397653\n",
       "9     33.562402\n",
       "10    36.134852\n",
       "11    36.374510\n",
       "12    37.225650\n",
       "13    37.311236\n",
       "14    38.407618\n",
       "15    38.810366\n",
       "16    40.659006\n",
       "17    40.667713\n",
       "18    43.047543\n",
       "19    45.220869\n",
       "Name: Tumor Volume (mm3), dtype: float64"
      ]
     },
     "metadata": {},
     "output_type": "display_data"
    },
    {
     "data": {
      "text/plain": [
       "0    60.918767\n",
       "1    62.435404\n",
       "2    62.754451\n",
       "3    65.525743\n",
       "4    66.083066\n",
       "5    66.196912\n",
       "6    67.685569\n",
       "7    67.973419\n",
       "8    72.226731\n",
       "Name: Tumor Volume (mm3), dtype: float64"
      ]
     },
     "metadata": {},
     "output_type": "display_data"
    },
    {
     "data": {
      "text/plain": [
       "0     59.741901\n",
       "1     59.851956\n",
       "2     61.386660\n",
       "3     61.433892\n",
       "4     61.849023\n",
       "5     62.999356\n",
       "6     64.299830\n",
       "7     64.634949\n",
       "8     64.729837\n",
       "9     67.527482\n",
       "10    67.748662\n",
       "11    68.594745\n",
       "12    68.923185\n",
       "Name: Tumor Volume (mm3), dtype: float64"
      ]
     },
     "metadata": {},
     "output_type": "display_data"
    }
   ],
   "source": [
    "# Calculate the final tumor volume of each mouse across four of the most promising treatment regimens. \n",
    "# Calculate the IQR and quantitatively determine if there are any potential outliers.\n",
    "\n",
    "# First extract data for final tumor volume for each drug regimen: Capomulin, Ramicane, Infubinol, and Ceftamin\n",
    "cap_final_tumor_vol = mouse_treatment_data.loc[(mouse_treatment_data[\"Timepoint\"] == 45) &\n",
    "                                               (mouse_treatment_data[\"Drug Regimen\"]== \"Capomulin\")].sort_values([\"Tumor Volume (mm3)\"]).reset_index(drop=True)\n",
    "cap_final_tumor_vol_data = cap_final_tumor_vol[\"Tumor Volume (mm3)\"]\n",
    "display(cap_final_tumor_vol_data)\n",
    "\n",
    "ram_final_tumor_vol = mouse_treatment_data.loc[(mouse_treatment_data[\"Timepoint\"] == 45) &\n",
    "                                               (mouse_treatment_data[\"Drug Regimen\"]== \"Ramicane\")].sort_values([\"Tumor Volume (mm3)\"]).reset_index(drop=True)\n",
    "ram_final_tumor_vol_data = ram_final_tumor_vol[\"Tumor Volume (mm3)\"]\n",
    "display(ram_final_tumor_vol_data)\n",
    "\n",
    "inf_final_tumor_vol = mouse_treatment_data.loc[(mouse_treatment_data[\"Timepoint\"] == 45) &\n",
    "                                               (mouse_treatment_data[\"Drug Regimen\"]== \"Infubinol\")].sort_values([\"Tumor Volume (mm3)\"]).reset_index(drop=True)\n",
    "inf_final_tumor_vol_data = inf_final_tumor_vol[\"Tumor Volume (mm3)\"]\n",
    "display(inf_final_tumor_vol_data)\n",
    "\n",
    "cef_final_tumor_vol = mouse_treatment_data.loc[(mouse_treatment_data[\"Timepoint\"] == 45) &\n",
    "                                               (mouse_treatment_data[\"Drug Regimen\"]== \"Ceftamin\")].sort_values([\"Tumor Volume (mm3)\"]).reset_index(drop=True)\n",
    "cef_final_tumor_vol_data = cef_final_tumor_vol[\"Tumor Volume (mm3)\"]\n",
    "display(cef_final_tumor_vol_data)"
   ]
  },
  {
   "cell_type": "code",
   "execution_count": 63,
   "metadata": {},
   "outputs": [
    {
     "name": "stdout",
     "output_type": "stream",
     "text": [
      "The lower quartile for Capomulin final tumor volume is: 32.37735684\n",
      "The upper quartile for Capomulin final tumor volume is: 40.1592203\n",
      "The interquartile range for Capomulin final tumor volume is: 7.781863460000004\n",
      "The the median value for Capomulin final tumor volume is: 37.31184577 \n",
      "Values below 20.70456164999999 could be outliers.\n",
      "Values above 51.83201549 could be outliers.\n",
      "Based on this calculation, there doesn't seem to be any outliers in the Capomulin final tumor volume data.\n",
      "\n",
      "The lower quartile for Ramicane final tumor volume is: 30.981175224999998\n",
      "The upper quartile for Ramicane final tumor volume is: 38.508305307499995\n",
      "The interquartile range for Ramicane final tumor volume is: 7.527130082499998\n",
      "The the median value for Ramicane final tumor volume is: 34.848627300000004 \n",
      "Values below 19.690480101250003 could be outliers.\n",
      "Values above 49.79900043124999 could be outliers.\n",
      "Based on this calculation, there doesn't seem to be any outliers in the Ramicane final tumor volume data.\n",
      "\n",
      "The lower quartile for Infubinol final tumor volume is: 62.75445141\n",
      "The upper quartile for Infubinol final tumor volume is: 67.68556862\n",
      "The interquartile range for Infubinol final tumor volume is: 4.9311172099999965\n",
      "The the median value for Infubinol final tumor volume is: 66.08306589 \n",
      "Values below 55.35777559500001 could be outliers.\n",
      "Values above 75.08224443499999 could be outliers.\n",
      "Based on this calculation, there doesn't seem to be any outliers in the Infubinol final tumor volume data.\n",
      "\n",
      "The lower quartile for Ceftamin final tumor volume is: 61.43389223\n",
      "The upper quartile for Ceftamin final tumor volume is: 67.52748237\n",
      "The interquartile range for Ceftamin final tumor volume is: 6.093590140000003\n",
      "The the median value for Ceftamin final tumor volume is: 64.29983003 \n",
      "Values below 52.29350701999999 could be outliers.\n",
      "Values above 76.66786758 could be outliers.\n",
      "Based on this calculation, there doesn't seem to be any outliers in the Ceftamin final tumor volume data.\n"
     ]
    }
   ],
   "source": [
    "# Calculate the IQR and quantitatively determine if there are any potential outliers.\n",
    "\n",
    "# Capomulin Quartile calculations\n",
    "quartiles = cap_final_tumor_vol_data.quantile([.25,.5,.75])\n",
    "lowerq = quartiles[0.25]\n",
    "upperq = quartiles[0.75]\n",
    "iqr = upperq-lowerq\n",
    "\n",
    "print(f\"The lower quartile for Capomulin final tumor volume is: {lowerq}\")\n",
    "print(f\"The upper quartile for Capomulin final tumor volume is: {upperq}\")\n",
    "print(f\"The interquartile range for Capomulin final tumor volume is: {iqr}\")\n",
    "print(f\"The the median value for Capomulin final tumor volume is: {quartiles[0.5]} \")\n",
    "\n",
    "lower_bound = lowerq - (1.5*iqr)\n",
    "upper_bound = upperq + (1.5*iqr)\n",
    "print(f\"Values below {lower_bound} could be outliers.\")\n",
    "print(f\"Values above {upper_bound} could be outliers.\")\n",
    "print(f\"Based on this calculation, there doesn't seem to be any outliers in the Capomulin final tumor volume data.\")\n",
    "print(f\"\")\n",
    "\n",
    "# Ramicane Quartile calculations\n",
    "quartiles = ram_final_tumor_vol_data.quantile([.25,.5,.75])\n",
    "lowerq = quartiles[0.25]\n",
    "upperq = quartiles[0.75]\n",
    "iqr = upperq-lowerq\n",
    "\n",
    "print(f\"The lower quartile for Ramicane final tumor volume is: {lowerq}\")\n",
    "print(f\"The upper quartile for Ramicane final tumor volume is: {upperq}\")\n",
    "print(f\"The interquartile range for Ramicane final tumor volume is: {iqr}\")\n",
    "print(f\"The the median value for Ramicane final tumor volume is: {quartiles[0.5]} \")\n",
    "\n",
    "lower_bound = lowerq - (1.5*iqr)\n",
    "upper_bound = upperq + (1.5*iqr)\n",
    "print(f\"Values below {lower_bound} could be outliers.\")\n",
    "print(f\"Values above {upper_bound} could be outliers.\")\n",
    "print(f\"Based on this calculation, there doesn't seem to be any outliers in the Ramicane final tumor volume data.\")\n",
    "print(f\"\")\n",
    "\n",
    "# Infubinol Quartile calculations\n",
    "quartiles = inf_final_tumor_vol_data.quantile([.25,.5,.75])\n",
    "lowerq = quartiles[0.25]\n",
    "upperq = quartiles[0.75]\n",
    "iqr = upperq-lowerq\n",
    "\n",
    "print(f\"The lower quartile for Infubinol final tumor volume is: {lowerq}\")\n",
    "print(f\"The upper quartile for Infubinol final tumor volume is: {upperq}\")\n",
    "print(f\"The interquartile range for Infubinol final tumor volume is: {iqr}\")\n",
    "print(f\"The the median value for Infubinol final tumor volume is: {quartiles[0.5]} \")\n",
    "\n",
    "lower_bound = lowerq - (1.5*iqr)\n",
    "upper_bound = upperq + (1.5*iqr)\n",
    "print(f\"Values below {lower_bound} could be outliers.\")\n",
    "print(f\"Values above {upper_bound} could be outliers.\")\n",
    "print(f\"Based on this calculation, there doesn't seem to be any outliers in the Infubinol final tumor volume data.\")\n",
    "print(f\"\")\n",
    "\n",
    "# Ceftamin Quartile calculations\n",
    "quartiles = cef_final_tumor_vol_data.quantile([.25,.5,.75])\n",
    "lowerq = quartiles[0.25]\n",
    "upperq = quartiles[0.75]\n",
    "iqr = upperq-lowerq\n",
    "\n",
    "print(f\"The lower quartile for Ceftamin final tumor volume is: {lowerq}\")\n",
    "print(f\"The upper quartile for Ceftamin final tumor volume is: {upperq}\")\n",
    "print(f\"The interquartile range for Ceftamin final tumor volume is: {iqr}\")\n",
    "print(f\"The the median value for Ceftamin final tumor volume is: {quartiles[0.5]} \")\n",
    "\n",
    "lower_bound = lowerq - (1.5*iqr)\n",
    "upper_bound = upperq + (1.5*iqr)\n",
    "print(f\"Values below {lower_bound} could be outliers.\")\n",
    "print(f\"Values above {upper_bound} could be outliers.\")\n",
    "print(f\"Based on this calculation, there doesn't seem to be any outliers in the Ceftamin final tumor volume data.\")"
   ]
  },
  {
   "cell_type": "code",
   "execution_count": 61,
   "metadata": {},
   "outputs": [
    {
     "data": {
      "image/png": "[encoded data removed]",
      "text/plain": [
       "<Figure size 432x288 with 1 Axes>"
      ]
     },
     "metadata": {
      "needs_background": "light"
     },
     "output_type": "display_data"
    }
   ],
   "source": [
    "# Using Matplotlib, generate a box and whisker plot of the final tumor volume for all four treatment regimens \n",
    "# and highlight any potential outliers in the plot by changing their color and style.\n",
    "\n",
    "drugs =[\"Capomulin\", \"Ramicane\", \"Infubinol\", \"Ceftamin\"]\n",
    "data = [cap_final_tumor_vol_data, ram_final_tumor_vol_data, inf_final_tumor_vol_data, cef_final_tumor_vol_data]\n",
    "\n",
    "fig1, ax1 = plt.subplots()\n",
    "ax1.boxplot(data)\n",
    "ax1.set_xticklabels(drugs)\n",
    "ax1.set_title(\"Final Tumor Volume Across Four Treatment Regimens\", fontsize=14)\n",
    "ax1.set_ylabel(\"Final Tumor Volume\", fontsize=13)\n",
    "ax1.set_xlabel(\"Treatment Regimens\", fontsize=13)\n",
    "ax1.yaxis.grid(True, linestyle='-', which='major', color='lightgrey', alpha=.5)\n",
    "plt.show()"
   ]
  },
  {
   "cell_type": "markdown",
   "metadata": {},
   "source": [
    "## Line and scatter plots"
   ]
  },
  {
   "cell_type": "code",
   "execution_count": 132,
   "metadata": {},
   "outputs": [
    {
     "data": {
      "image/png": "[encoded data removed]",
      "text/plain": [
       "<Figure size 432x288 with 1 Axes>"
      ]
     },
     "metadata": {
      "needs_background": "light"
     },
     "output_type": "display_data"
    }
   ],
   "source": [
    "# Generate a line plot of time point versus tumor volume for a single mouse treated with Capomulin\n",
    "s185_capomulin_data = mouse_treatment_data.loc[(mouse_treatment_data[\"Drug Regimen\"] == \"Capomulin\")&\n",
    "                                               (mouse_treatment_data[\"Mouse ID\"] == \"s185\")].drop(columns=[\"Sex\",\"Age_months\",\"Weight (g)\", \"Metastatic Sites\"])\n",
    "#display(s185_capomulin_data)\n",
    "\n",
    "x_axis = s185_capomulin_data[\"Timepoint\"]\n",
    "y_axis = s185_capomulin_data[\"Tumor Volume (mm3)\"]\n",
    "plt.plot(x_axis, y_axis, marker=\"o\", color=\"fuchsia\", label = \"Mouse s185\")\n",
    "plt.xlim(0, 45, 5)\n",
    "plt.ylim(10,max(y_axis)+3)\n",
    "plt.xlabel(\"Timepoint\", fontsize=13)\n",
    "plt.ylabel(\"Tumor Volume (mm3)\", fontsize=13)\n",
    "plt.title(\"Tumor Volume Over Time for Mouse Treated with Capomulin\", fontsize=14)\n",
    "plt.legend(loc=\"best\")\n",
    "plt.grid(alpha=.5)\n",
    "plt.show()"
   ]
  },
  {
   "cell_type": "code",
   "execution_count": 107,
   "metadata": {},
   "outputs": [
    {
     "data": {
      "text/html": [
       "<div>\n",
       "<style scoped>\n",
       "    .dataframe tbody tr th:only-of-type {\n",
       "        vertical-align: middle;\n",
       "    }\n",
       "\n",
       "    .dataframe tbody tr th {\n",
       "        vertical-align: top;\n",
       "    }\n",
       "\n",
       "    .dataframe thead th {\n",
       "        text-align: right;\n",
       "    }\n",
       "</style>\n",
       "<table border=\"1\" class=\"dataframe\">\n",
       "  <thead>\n",
       "    <tr style=\"text-align: right;\">\n",
       "      <th></th>\n",
       "      <th>Weight (g)</th>\n",
       "      <th>Tumor Volume (mm3)</th>\n",
       "    </tr>\n",
       "  </thead>\n",
       "  <tbody>\n",
       "    <tr>\n",
       "      <th>0</th>\n",
       "      <td>15</td>\n",
       "      <td>36.182040</td>\n",
       "    </tr>\n",
       "    <tr>\n",
       "      <th>1</th>\n",
       "      <td>17</td>\n",
       "      <td>37.214133</td>\n",
       "    </tr>\n",
       "    <tr>\n",
       "      <th>2</th>\n",
       "      <td>19</td>\n",
       "      <td>41.182391</td>\n",
       "    </tr>\n",
       "    <tr>\n",
       "      <th>3</th>\n",
       "      <td>20</td>\n",
       "      <td>39.141053</td>\n",
       "    </tr>\n",
       "    <tr>\n",
       "      <th>4</th>\n",
       "      <td>21</td>\n",
       "      <td>42.088700</td>\n",
       "    </tr>\n",
       "    <tr>\n",
       "      <th>5</th>\n",
       "      <td>22</td>\n",
       "      <td>43.288490</td>\n",
       "    </tr>\n",
       "    <tr>\n",
       "      <th>6</th>\n",
       "      <td>23</td>\n",
       "      <td>43.341051</td>\n",
       "    </tr>\n",
       "    <tr>\n",
       "      <th>7</th>\n",
       "      <td>24</td>\n",
       "      <td>44.805810</td>\n",
       "    </tr>\n",
       "    <tr>\n",
       "      <th>8</th>\n",
       "      <td>25</td>\n",
       "      <td>44.062109</td>\n",
       "    </tr>\n",
       "  </tbody>\n",
       "</table>\n",
       "</div>"
      ],
      "text/plain": [
       "   Weight (g)  Tumor Volume (mm3)\n",
       "0          15           36.182040\n",
       "1          17           37.214133\n",
       "2          19           41.182391\n",
       "3          20           39.141053\n",
       "4          21           42.088700\n",
       "5          22           43.288490\n",
       "6          23           43.341051\n",
       "7          24           44.805810\n",
       "8          25           44.062109"
      ]
     },
     "metadata": {},
     "output_type": "display_data"
    },
    {
     "data": {
      "image/png": "[encoded data removed]",
      "text/plain": [
       "<Figure size 432x288 with 1 Axes>"
      ]
     },
     "metadata": {
      "needs_background": "light"
     },
     "output_type": "display_data"
    }
   ],
   "source": [
    "# Generate a Scatter Plot of Mouse Weight versus Average Tumor Volume for the Capomulin regimen\n",
    "\n",
    "#Extract Capomulin data from larger dataframe\n",
    "capomulin_data = mouse_treatment_data.loc[(mouse_treatment_data[\"Drug Regimen\"] == \"Capomulin\")]\n",
    "#display(capomulin_data)\n",
    "\n",
    "# Group by Weight to calculate Average Tumor Volume by Weight\n",
    "grouped_cap_data = capomulin_data.groupby([\"Weight (g)\"])\n",
    "cap_avg_tumor_vol_by_weight = grouped_cap_data.mean().drop(columns=[\"Age_months\", \"Timepoint\", \n",
    "                                                                    \"Metastatic Sites\"]).reset_index()\n",
    "display(cap_avg_tumor_vol_by_weight)\n",
    "\n",
    "# Plot data as a Scatter Plot\n",
    "weight = cap_avg_tumor_vol_by_weight[\"Weight (g)\"]\n",
    "avg_tumor_vol = cap_avg_tumor_vol_by_weight[\"Tumor Volume (mm3)\"]\n",
    "\n",
    "plt.scatter(weight, avg_tumor_vol, marker=\"o\", facecolors=\"lime\", edgecolors=\"black\")\n",
    "plt.xlabel(\"Weight (g)\", fontsize=12)\n",
    "plt.ylabel(\"Average Tumor Volume (mm3)\", fontsize=12)\n",
    "plt.title(\"Mouse Weight vs Average Tumor Volume for the Capomulin Regimen\", fontsize=14)\n",
    "plt.grid(alpha=.5)\n",
    "plt.show()\n"
   ]
  },
  {
   "cell_type": "code",
   "execution_count": 106,
   "metadata": {},
   "outputs": [
    {
     "name": "stdout",
     "output_type": "stream",
     "text": [
      "The correlation between mouse weight and average tumor volume is 0.95\n"
     ]
    }
   ],
   "source": [
    "# Calculate the Correlation Coefficient for Mouse Weight and Average Tumor Volume for the Capomulin regimen\n",
    "correlation = st.pearsonr(weight, avg_tumor_vol)\n",
    "print(f\"The correlation between mouse weight and average tumor volume is {round(correlation[0],2)}\")"
   ]
  },
  {
   "cell_type": "code",
   "execution_count": 117,
   "metadata": {},
   "outputs": [
    {
     "name": "stdout",
     "output_type": "stream",
     "text": [
      "The r-squared value is: 0.950524396185527\n"
     ]
    },
    {
     "data": {
      "image/png": "[encoded data removed]",
      "text/plain": [
       "<Figure size 432x288 with 1 Axes>"
      ]
     },
     "metadata": {
      "needs_background": "light"
     },
     "output_type": "display_data"
    }
   ],
   "source": [
    "# Calculate the Linear Regression Model for Mouse Weight and Average Tumor Volume for the Capomulin regimen\n",
    "x_values = weight\n",
    "y_values = avg_tumor_vol\n",
    "(slope, intercept, rvalue, pvalue, stderr) = linregress(x_values, y_values)\n",
    "regress_values = x_values * slope + intercept\n",
    "line_eq = \"y = \" + str(round(slope,2)) + \"x + \" + str(round(intercept,2))\n",
    "\n",
    "# Print R-Squared Value and Plot Linear Regression Equation and line on Scatter Plot\n",
    "print(f\"The r-squared value is: {rvalue}\")\n",
    "plt.scatter(x_values, y_values, marker=\"o\", facecolors=\"lime\", edgecolors=\"black\")\n",
    "plt.plot(x_values,regress_values,\"b--\")\n",
    "plt.annotate(line_eq,(21,40),fontsize=14,color=\"blue\")\n",
    "plt.xlabel(\"Weight (g)\", fontsize=14)\n",
    "plt.ylabel(\"Average Tumor Volume (mm3)\", fontsize=12)\n",
    "plt.title(\"Mouse Weight vs Average Tumor Volume for the Capomulin Regimen\", fontsize=14)\n",
    "plt.grid(alpha=.5)\n",
    "plt.show()"
   ]
  },
  {
   "cell_type": "code",
   "execution_count": null,
   "metadata": {},
   "outputs": [],
   "source": []
  }
 ],
 "metadata": {
  "anaconda-cloud": {},
  "kernelspec": {
   "display_name": "Python 3",
   "language": "python",
   "name": "python3"
  },
  "language_info": {
   "codemirror_mode": {
    "name": "ipython",
    "version": 3
   },
   "file_extension": ".py",
   "mimetype": "text/x-python",
   "name": "python",
   "nbconvert_exporter": "python",
   "pygments_lexer": "ipython3",
   "version": "3.7.5"
  }
 },
 "nbformat": 4,
 "nbformat_minor": 2
}
